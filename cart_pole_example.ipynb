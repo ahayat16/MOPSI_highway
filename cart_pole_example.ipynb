{
 "cells": [
  {
   "cell_type": "code",
   "execution_count": null,
   "metadata": {},
   "outputs": [
    {
     "ename": "",
     "evalue": "",
     "output_type": "error",
     "traceback": [
      "\u001b[1;31mRunning cells with '/Users/hayat/miniconda/envs/waves/bin/python' requires the ipykernel package.\n",
      "\u001b[1;31mRun the following command to install 'ipykernel' into the Python environment. \n",
      "\u001b[1;31mCommand: 'conda install -p /Users/hayat/miniconda/envs/waves ipykernel --update-deps --force-reinstall'"
     ]
    }
   ],
   "source": [
    "import gym\n",
    "from stable_baselines3 import PPO\n",
    "# from pyglet.window import key\n",
    "\n",
    "def manual_control(obs):\n",
    "    # Example logic: push right if the pole is too far to the left\n",
    "    if obs[2] < -0.2:  # Angle threshold\n",
    "        return  1  # Push right\n",
    "    else:\n",
    "        return  0  # Push left\n",
    "\n",
    "\n",
    "\n"
   ]
  },
  {
   "cell_type": "code",
   "execution_count": null,
   "metadata": {},
   "outputs": [],
   "source": [
    "\n",
    "env = gym.make('CartPole-v0')\n",
    "\n",
    "##### TRAIN ####\n",
    "\n",
    "# model = PPO(\"MlpPolicy\", env, verbose=1)\n",
    "# model.learn(total_timesteps=10000)\n",
    "\n",
    "#### EVAL ####\n",
    "\n",
    "trained_model = False\n",
    "observation = env.reset()\n",
    "\n",
    "for _ in range(1000):\n",
    "    if trained_model:\n",
    "        action, _ = model.predict(observation, deterministic=True)\n",
    "    else:\n",
    "        action = manual_control(observation)\n",
    "    observation, reward, done, info = env.step(action)\n",
    "    env.render(mode='rgb_array')\n",
    "    if done:\n",
    "        observation = env.reset()\n",
    "\n",
    "\n",
    "#### VISUALISATION ####\n",
    "\n",
    "\n",
    "\n",
    "# # Key press handler\n",
    "# def key_press(k, mod):\n",
    "#     global action\n",
    "#     if k==key.LEFT:  action =  0  # Push cart to the left\n",
    "#     if k==key.RIGHT: action =  1  # Push cart to the right\n",
    "\n",
    "# # Attach the key press handler to the environment\n",
    "# env.viewer.window.on_key_press = key_press"
   ]
  }
 ],
 "metadata": {
  "kernelspec": {
   "display_name": "Python 3",
   "language": "python",
   "name": "python3"
  },
  "language_info": {
   "name": "python",
   "version": "3.8.16"
  }
 },
 "nbformat": 4,
 "nbformat_minor": 2
}
